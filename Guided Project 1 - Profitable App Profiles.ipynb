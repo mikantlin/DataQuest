{
 "cells": [
  {
   "cell_type": "markdown",
   "metadata": {},
   "source": [
    "# Guided Project: Profitable App Profiles For The App Store And Google Play Markets\n",
    "\n",
    "As a company that builds free apps to download and install, our main source of revenue is from in-app ads. This means our revenue for any given app is mostly influenced by the number of users who use our app. In this project, I will be analyzing data to understand what type of apps are likely to attract more users and thus are more profitable for the company."
   ]
  },
  {
   "cell_type": "markdown",
   "metadata": {},
   "source": [
    "Below is a function we've defined to review any dataset, so that we have an easy way to review our data."
   ]
  },
  {
   "cell_type": "code",
   "execution_count": 2,
   "metadata": {
    "collapsed": true
   },
   "outputs": [],
   "source": [
    "def explore_data(dataset, start, end, rows_and_columns=False):\n",
    "    dataset_slice = dataset[start:end]    \n",
    "    for row in dataset_slice:\n",
    "        print(row)\n",
    "        print('\\n') # adds a new (empty) line after each row\n",
    "\n",
    "    if rows_and_columns:\n",
    "        print('Number of rows:', len(dataset))\n",
    "        print('Number of columns:', len(dataset[0]))"
   ]
  },
  {
   "cell_type": "code",
   "execution_count": 3,
   "metadata": {
    "collapsed": false
   },
   "outputs": [
    {
     "name": "stdout",
     "output_type": "stream",
     "text": [
      "['284882215', 'Facebook', '389879808', 'USD', '0.0', '2974676', '212', '3.5', '3.5', '95.0', '4+', 'Social Networking', '37', '1', '29', '1']\n",
      "\n",
      "\n",
      "Number of rows: 7197\n",
      "Number of columns: 16\n",
      "\n",
      "\n",
      "['Photo Editor & Candy Camera & Grid & ScrapBook', 'ART_AND_DESIGN', '4.1', '159', '19M', '10,000+', 'Free', '0', 'Everyone', 'Art & Design', 'January 7, 2018', '1.0.0', '4.0.3 and up']\n",
      "\n",
      "\n",
      "Number of rows: 10841\n",
      "Number of columns: 13\n"
     ]
    }
   ],
   "source": [
    "apple_file = open('AppleStore.csv')\n",
    "google_file = open('googleplaystore.csv')\n",
    "\n",
    "from csv import reader\n",
    "apple_data = list(reader(apple_file))\n",
    "google_data = list(reader(google_file))\n",
    "\n",
    "# Identify available columns\n",
    "explore_data(apple_data[1:],0,1, True)\n",
    "print('\\n')\n",
    "explore_data(google_data[1:],0,1, True)"
   ]
  },
  {
   "cell_type": "markdown",
   "metadata": {},
   "source": [
    "Documentation for the columns can be found [here](https://www.kaggle.com/ramamet4/app-store-apple-data-set-10k-apps) for the App Store data and [here](https://www.kaggle.com/lava18/google-play-store-apps) for the Google Play data.\n",
    "\n",
    "## Removing Invalid Records\n",
    "As explained in [this discussion thread](https://www.kaggle.com/lava18/google-play-store-apps/discussion/66015) on the Google Play dataset forum, one of the records is missing one of the columns and will cause issues for our data work. So we must delete the particular record (found to be on line 10473)."
   ]
  },
  {
   "cell_type": "code",
   "execution_count": 4,
   "metadata": {
    "collapsed": false
   },
   "outputs": [
    {
     "name": "stdout",
     "output_type": "stream",
     "text": [
      "['Life Made WI-Fi Touchscreen Photo Frame', '1.9', '19', '3.0M', '1,000+', 'Free', '0', 'Everyone', '', 'February 11, 2018', '1.0.19', '4.0 and up']\n",
      "\n",
      "\n"
     ]
    }
   ],
   "source": [
    "# cleaning of record that is missing the 'Category' column value in the Google Play data\n",
    "explore_data(google_data,10473,10474)\n",
    "del google_data[10473]"
   ]
  },
  {
   "cell_type": "code",
   "execution_count": 5,
   "metadata": {
    "collapsed": false
   },
   "outputs": [
    {
     "name": "stdout",
     "output_type": "stream",
     "text": [
      "['osmino Wi-Fi: free WiFi', 'TOOLS', '4.2', '134203', '4.1M', '10,000,000+', 'Free', '0', 'Everyone', 'Tools', 'August 7, 2018', '6.06.14', '4.4 and up']\n",
      "\n",
      "\n"
     ]
    }
   ],
   "source": [
    "explore_data(google_data,10473,10474)"
   ]
  },
  {
   "cell_type": "markdown",
   "metadata": {},
   "source": [
    "## Duplicate Removal\n",
    "### Part One\n",
    "Reviewing the Google Play data, we can also see that there are duplicate entries for the same apps. Below we're using the Instagram app as an example:"
   ]
  },
  {
   "cell_type": "code",
   "execution_count": 6,
   "metadata": {
    "collapsed": false
   },
   "outputs": [
    {
     "name": "stdout",
     "output_type": "stream",
     "text": [
      "['Instagram', 'SOCIAL', '4.5', '66577313', 'Varies with device', '1,000,000,000+', 'Free', '0', 'Teen', 'Social', 'July 31, 2018', 'Varies with device', 'Varies with device']\n",
      "['Instagram', 'SOCIAL', '4.5', '66577446', 'Varies with device', '1,000,000,000+', 'Free', '0', 'Teen', 'Social', 'July 31, 2018', 'Varies with device', 'Varies with device']\n",
      "['Instagram', 'SOCIAL', '4.5', '66577313', 'Varies with device', '1,000,000,000+', 'Free', '0', 'Teen', 'Social', 'July 31, 2018', 'Varies with device', 'Varies with device']\n",
      "['Instagram', 'SOCIAL', '4.5', '66509917', 'Varies with device', '1,000,000,000+', 'Free', '0', 'Teen', 'Social', 'July 31, 2018', 'Varies with device', 'Varies with device']\n"
     ]
    }
   ],
   "source": [
    "for app in google_data[1:]:\n",
    "    name = app[0]\n",
    "    if name == 'Instagram':\n",
    "        print(app)"
   ]
  },
  {
   "cell_type": "markdown",
   "metadata": {},
   "source": [
    "In the below code, we loop through the Google Play data. For each app, we check whether the app's name exists within the `unique_apps` list. If it does, we append it to the `duplicate_apps` list. Otherwise, we apped it to the `unique_apps` list."
   ]
  },
  {
   "cell_type": "code",
   "execution_count": 7,
   "metadata": {
    "collapsed": false
   },
   "outputs": [
    {
     "name": "stdout",
     "output_type": "stream",
     "text": [
      "Number of duplicate apps:  1181 \n",
      "\n",
      "Examples of duplicate apps:  ['Quick PDF Scanner + OCR FREE', 'Box', 'Google My Business', 'ZOOM Cloud Meetings', 'join.me - Simple Meetings', 'Box', 'Zenefits', 'Google Ads', 'Google My Business', 'Slack', 'FreshBooks Classic', 'Insightly CRM', 'QuickBooks Accounting: Invoicing & Expenses', 'HipChat - Chat Built for Teams', 'Xero Accounting Software']\n"
     ]
    }
   ],
   "source": [
    "duplicate_apps = []\n",
    "unique_apps = []\n",
    "\n",
    "for app in google_data[1:]:\n",
    "    name = app[0]\n",
    "    if name in unique_apps:\n",
    "        duplicate_apps.append(name)\n",
    "    else:\n",
    "        unique_apps.append(name)\n",
    "        \n",
    "print('Number of duplicate apps: ', len(duplicate_apps), '\\n')\n",
    "print('Examples of duplicate apps: ', duplicate_apps[:15])"
   ]
  },
  {
   "cell_type": "markdown",
   "metadata": {},
   "source": [
    "We will want to clean the data to ensure unique entries. We could remove duplicates randomly, but we run the risk of losing the most accurate data available to us.\n",
    "\n",
    "We can see that the main difference between the entries appears to be the number of reviews in the ```Reviews``` field. We can utilise this to make sure that we only keep the entry with the most current number of ratings, and remove the rest."
   ]
  },
  {
   "cell_type": "code",
   "execution_count": 8,
   "metadata": {
    "collapsed": false
   },
   "outputs": [
    {
     "name": "stdout",
     "output_type": "stream",
     "text": [
      "number of apps after duplicate cleanup:  9659\n"
     ]
    }
   ],
   "source": [
    "print('number of apps after duplicate cleanup: ', len(google_data[1:]) - len(duplicate_apps))"
   ]
  },
  {
   "cell_type": "markdown",
   "metadata": {},
   "source": [
    "### Part Two\n",
    "In the below code:\n",
    "* We create a new dictionary called `reviews_max` to hold a list of the highest review for each app.\n",
    "* We loop through the Google Play data and for each app, grab the name and number of reviews:\n",
    "    * If the app name already exists in the dictionary and the number of reviews is higher than the key's associated value, we update the value with the new number of reviews.\n",
    "    * Otherwise, if the name does not exist, we append the app name and number of ratings as a new key-value pair in the dictionary. "
   ]
  },
  {
   "cell_type": "code",
   "execution_count": 9,
   "metadata": {
    "collapsed": false
   },
   "outputs": [
    {
     "name": "stdout",
     "output_type": "stream",
     "text": [
      "9659\n",
      "66577446.0\n"
     ]
    }
   ],
   "source": [
    "reviews_max = {}\n",
    "\n",
    "for app in google_data[1:]:\n",
    "    name = app[0]\n",
    "    n_reviews = float(app[3])\n",
    "\n",
    "    if name in reviews_max and reviews_max[name] < n_reviews:\n",
    "        reviews_max[name] = n_reviews\n",
    "    if name not in reviews_max:\n",
    "        reviews_max[name] = n_reviews\n",
    "        \n",
    "print(len(reviews_max))\n",
    "print(reviews_max['Instagram'])"
   ]
  },
  {
   "cell_type": "markdown",
   "metadata": {},
   "source": [
    "Now that we have a list of the highest ratings for each app, we can select the appropriate unique records for our data set:\n",
    "\n",
    "* We initialise two new lists, `android_clean` and `already_added`.\n",
    "* Looping through the Google Play data, we pull the current app's name and number of ratings:\n",
    "    * If the number of ratings matches the app's maximum number of ratings and the app has not already been added, we add the app's record to the `android_clean` list and the app's name to the `already_added` list."
   ]
  },
  {
   "cell_type": "code",
   "execution_count": 10,
   "metadata": {
    "collapsed": false,
    "scrolled": true
   },
   "outputs": [
    {
     "name": "stdout",
     "output_type": "stream",
     "text": [
      "[['Photo Editor & Candy Camera & Grid & ScrapBook', 'ART_AND_DESIGN', '4.1', '159', '19M', '10,000+', 'Free', '0', 'Everyone', 'Art & Design', 'January 7, 2018', '1.0.0', '4.0.3 and up'], ['U Launcher Lite – FREE Live Cool Themes, Hide Apps', 'ART_AND_DESIGN', '4.7', '87510', '8.7M', '5,000,000+', 'Free', '0', 'Everyone', 'Art & Design', 'August 1, 2018', '1.2.4', '4.0.3 and up'], ['Sketch - Draw & Paint', 'ART_AND_DESIGN', '4.5', '215644', '25M', '50,000,000+', 'Free', '0', 'Teen', 'Art & Design', 'June 8, 2018', 'Varies with device', '4.2 and up'], ['Pixel Draw - Number Art Coloring Book', 'ART_AND_DESIGN', '4.3', '967', '2.8M', '100,000+', 'Free', '0', 'Everyone', 'Art & Design;Creativity', 'June 20, 2018', '1.1', '4.4 and up'], ['Paper flowers instructions', 'ART_AND_DESIGN', '4.4', '167', '5.6M', '50,000+', 'Free', '0', 'Everyone', 'Art & Design', 'March 26, 2017', '1.0', '2.3 and up']]\n"
     ]
    }
   ],
   "source": [
    "android_clean = []\n",
    "already_added = []\n",
    "\n",
    "for app in google_data[1:]:\n",
    "    name = app[0]\n",
    "    n_reviews = float(app[3])\n",
    "    \n",
    "    if n_reviews == reviews_max[name] and name not in already_added:\n",
    "        android_clean.append(app)\n",
    "        already_added.append(name)\n",
    "\n",
    "print(android_clean[:5])"
   ]
  },
  {
   "cell_type": "markdown",
   "metadata": {},
   "source": [
    "## Filtering Non-English Records\n",
    "### Part One\n",
    "As our company uses English for any apps they develop, we want to analyse only the apps that are aimed at an English-speaking audience. To do this, we have written the below function to identify non-English characters in an app name.\n",
    "\n",
    "We loop through each character of the supplied string. Using the built-in `ord()` function, we check the character's Unicode number:\n",
    "* If the number is higher than the standard English character range (0-127), we can safely assume that the app name contains non-English characters and return a false value.\n",
    "* If no character's Unicode number is above 127, we can safely assume the app name is English and so return a true value."
   ]
  },
  {
   "cell_type": "code",
   "execution_count": 11,
   "metadata": {
    "collapsed": true
   },
   "outputs": [],
   "source": [
    "def is_english(string):\n",
    "    for char in string:\n",
    "        if ord(char) > 127:\n",
    "            return False\n",
    "    \n",
    "    return True"
   ]
  },
  {
   "cell_type": "code",
   "execution_count": 12,
   "metadata": {
    "collapsed": false
   },
   "outputs": [
    {
     "name": "stdout",
     "output_type": "stream",
     "text": [
      "True\n",
      "False\n",
      "False\n",
      "False\n"
     ]
    }
   ],
   "source": [
    "print(is_english('Instagram'))\n",
    "print(is_english('爱奇艺PPS -《欢乐颂2》电视剧热播'))\n",
    "print(is_english('Docs To Go™ Free Office Suite'))\n",
    "print(is_english('Instachat 😜'))"
   ]
  },
  {
   "cell_type": "markdown",
   "metadata": {},
   "source": [
    "### Part Two\n",
    "As we can see in the printed values above, certain values are incorrectly identified as non-English. This occurs when emojis or symbols appear within the app's name. To minimise the chance of valid apps being incorrectly removed, we will update the function to only return true if three or more non-English characters are identified."
   ]
  },
  {
   "cell_type": "code",
   "execution_count": 13,
   "metadata": {
    "collapsed": false
   },
   "outputs": [
    {
     "name": "stdout",
     "output_type": "stream",
     "text": [
      "True\n",
      "True\n"
     ]
    }
   ],
   "source": [
    "def is_english(string):\n",
    "    no_ascii = 0;\n",
    "    for char in string:\n",
    "        if ord(char) > 127:\n",
    "            no_ascii += 1;\n",
    "            \n",
    "        if no_ascii > 3:\n",
    "            return False\n",
    "        else:\n",
    "            return True\n",
    "        \n",
    "print(is_english('Docs To Go™ Free Office Suite'))\n",
    "print(is_english('Instachat 😜'))"
   ]
  },
  {
   "cell_type": "markdown",
   "metadata": {},
   "source": [
    "Now we'll use our new function to filter the two data sets."
   ]
  },
  {
   "cell_type": "code",
   "execution_count": 14,
   "metadata": {
    "collapsed": false
   },
   "outputs": [
    {
     "name": "stdout",
     "output_type": "stream",
     "text": [
      "['284882215', 'Facebook', '389879808', 'USD', '0.0', '2974676', '212', '3.5', '3.5', '95.0', '4+', 'Social Networking', '37', '1', '29', '1']\n",
      "\n",
      "\n",
      "['389801252', 'Instagram', '113954816', 'USD', '0.0', '2161558', '1289', '4.5', '4.0', '10.23', '12+', 'Photo & Video', '37', '0', '29', '1']\n",
      "\n",
      "\n",
      "['529479190', 'Clash of Clans', '116476928', 'USD', '0.0', '2130805', '579', '4.5', '4.5', '9.24.12', '9+', 'Games', '38', '5', '18', '1']\n",
      "\n",
      "\n",
      "['420009108', 'Temple Run', '65921024', 'USD', '0.0', '1724546', '3842', '4.5', '4.0', '1.6.2', '9+', 'Games', '40', '5', '1', '1']\n",
      "\n",
      "\n",
      "Number of rows: 7198\n",
      "Number of columns: 16\n",
      "\n",
      "\n",
      "['U Launcher Lite – FREE Live Cool Themes, Hide Apps', 'ART_AND_DESIGN', '4.7', '87510', '8.7M', '5,000,000+', 'Free', '0', 'Everyone', 'Art & Design', 'August 1, 2018', '1.2.4', '4.0.3 and up']\n",
      "\n",
      "\n",
      "['Sketch - Draw & Paint', 'ART_AND_DESIGN', '4.5', '215644', '25M', '50,000,000+', 'Free', '0', 'Teen', 'Art & Design', 'June 8, 2018', 'Varies with device', '4.2 and up']\n",
      "\n",
      "\n",
      "['Pixel Draw - Number Art Coloring Book', 'ART_AND_DESIGN', '4.3', '967', '2.8M', '100,000+', 'Free', '0', 'Everyone', 'Art & Design;Creativity', 'June 20, 2018', '1.1', '4.4 and up']\n",
      "\n",
      "\n",
      "['Paper flowers instructions', 'ART_AND_DESIGN', '4.4', '167', '5.6M', '50,000+', 'Free', '0', 'Everyone', 'Art & Design', 'March 26, 2017', '1.0', '2.3 and up']\n",
      "\n",
      "\n",
      "Number of rows: 9659\n",
      "Number of columns: 13\n"
     ]
    }
   ],
   "source": [
    "android_english = []\n",
    "ios_english = []\n",
    "\n",
    "for app in android_clean:\n",
    "    name = app[0]\n",
    "    \n",
    "    if is_english(name):\n",
    "        android_english.append(app)\n",
    "        \n",
    "for app in apple_data:\n",
    "    name = app[0]\n",
    "    \n",
    "    if is_english(name):\n",
    "        ios_english.append(app)\n",
    "\n",
    "explore_data(ios_english, 1, 5, True)\n",
    "print('\\n')\n",
    "explore_data(android_english, 1, 5, True)"
   ]
  },
  {
   "cell_type": "markdown",
   "metadata": {},
   "source": [
    "## Filtering Out Paid Apps\n",
    "\n",
    "As our company's main source of revenue consists of in-app ads, we only want to see the free apps within our lists. To do this, we'll loop through each list and isolate the free apps within separate lists. "
   ]
  },
  {
   "cell_type": "code",
   "execution_count": 15,
   "metadata": {
    "collapsed": false
   },
   "outputs": [
    {
     "name": "stdout",
     "output_type": "stream",
     "text": [
      "['389801252', 'Instagram', '113954816', 'USD', '0.0', '2161558', '1289', '4.5', '4.0', '10.23', '12+', 'Photo & Video', '37', '0', '29', '1']\n",
      "\n",
      "\n",
      "['529479190', 'Clash of Clans', '116476928', 'USD', '0.0', '2130805', '579', '4.5', '4.5', '9.24.12', '9+', 'Games', '38', '5', '18', '1']\n",
      "\n",
      "\n",
      "['420009108', 'Temple Run', '65921024', 'USD', '0.0', '1724546', '3842', '4.5', '4.0', '1.6.2', '9+', 'Games', '40', '5', '1', '1']\n",
      "\n",
      "\n",
      "['284035177', 'Pandora - Music & Radio', '130242560', 'USD', '0.0', '1126879', '3594', '4.0', '4.5', '8.4.1', '12+', 'Music', '37', '4', '1', '1']\n",
      "\n",
      "\n",
      "Number of rows: 4056\n",
      "Number of columns: 16\n",
      "\n",
      "\n",
      "['U Launcher Lite – FREE Live Cool Themes, Hide Apps', 'ART_AND_DESIGN', '4.7', '87510', '8.7M', '5,000,000+', 'Free', '0', 'Everyone', 'Art & Design', 'August 1, 2018', '1.2.4', '4.0.3 and up']\n",
      "\n",
      "\n",
      "['Sketch - Draw & Paint', 'ART_AND_DESIGN', '4.5', '215644', '25M', '50,000,000+', 'Free', '0', 'Teen', 'Art & Design', 'June 8, 2018', 'Varies with device', '4.2 and up']\n",
      "\n",
      "\n",
      "['Pixel Draw - Number Art Coloring Book', 'ART_AND_DESIGN', '4.3', '967', '2.8M', '100,000+', 'Free', '0', 'Everyone', 'Art & Design;Creativity', 'June 20, 2018', '1.1', '4.4 and up']\n",
      "\n",
      "\n",
      "['Paper flowers instructions', 'ART_AND_DESIGN', '4.4', '167', '5.6M', '50,000+', 'Free', '0', 'Everyone', 'Art & Design', 'March 26, 2017', '1.0', '2.3 and up']\n",
      "\n",
      "\n",
      "Number of rows: 8904\n",
      "Number of columns: 13\n"
     ]
    }
   ],
   "source": [
    "ios_free = []\n",
    "android_free = []\n",
    "\n",
    "for app in ios_english:\n",
    "    cost = app[4]\n",
    "    \n",
    "    if cost == '0.0':\n",
    "        ios_free.append(app)\n",
    "\n",
    "for app in android_english:\n",
    "    cost = app[6]\n",
    "    \n",
    "    if cost == 'Free':\n",
    "        android_free.append(app)\n",
    "\n",
    "explore_data(ios_free, 1, 5, True)\n",
    "print('\\n')\n",
    "explore_data(android_free, 1, 5, True)"
   ]
  },
  {
   "cell_type": "markdown",
   "metadata": {},
   "source": [
    "## Most Common Apps by Genre\n",
    "### Part One\n",
    "\n",
    "Our aim is to work out which apps are most likely to attract users as our revenue is based on the number of people using our apps.\n",
    "\n",
    "To minimize risks and overhead, our validation strategy for an app idea is comprised of three steps:\n",
    "\n",
    "1. Build a minimal Android version of the app, and add it to Google Play.\n",
    "2. If the app has a good response from users, we develop it further.\n",
    "3. If the app is profitable after six months, we build an iOS version of the app and add it to the App Store.\n",
    "\n",
    "Because our end goal is to add the app on both Google Play and the App Store, we need to find app profiles that are successful on both markets. For instance, a profile that works well for both markets might be a productivity app that makes use of gamification.\n",
    "\n",
    "Let's begin the analysis by getting a sense of what are the most common genres for each market. For this, we'll need to build frequency tables for a few columns in our data sets.\n",
    "\n",
    "We will be using the primary columns in both sets: the `prime_genre` column for iOS, and the `Genres` and `Category` columns for Android.\n",
    "\n",
    "### Part Two\n",
    "\n",
    "Now we're going to create two functions to help us generate and analyse frequency tables.\n",
    "\n",
    "The `freq_table()` function will take two inputs: `dataset` (a list of lists) and `index` (an integer). It will return a frequency table as a dictionary for any column we pass to it, with the values as percentages.\n",
    "\n",
    "The `display_table()` function will convert any dataset to a frequency table (using the `freq_table()` function), sort in descending order by the frequencies and display it. "
   ]
  },
  {
   "cell_type": "code",
   "execution_count": 16,
   "metadata": {
    "collapsed": true
   },
   "outputs": [],
   "source": [
    "def freq_table(dataset, index):\n",
    "    frequency_table = {}\n",
    "    dataset_count = len(dataset)\n",
    "    \n",
    "    for row in dataset:\n",
    "        data_point = row[index]\n",
    "        if data_point in frequency_table:\n",
    "            frequency_table[data_point] += 1\n",
    "        else:\n",
    "            frequency_table[data_point] = 1\n",
    "\n",
    "    for key in frequency_table:\n",
    "        frequency_table[key] /= dataset_count\n",
    "        frequency_table[key] *= 100\n",
    "    \n",
    "    return frequency_table"
   ]
  },
  {
   "cell_type": "code",
   "execution_count": 17,
   "metadata": {
    "collapsed": true
   },
   "outputs": [],
   "source": [
    "def display_table(dataset, index):\n",
    "    table = freq_table(dataset, index)\n",
    "    table_display = []\n",
    "    \n",
    "    for key in table:\n",
    "        key_val_as_tuple = (table[key], key)\n",
    "        table_display.append(key_val_as_tuple)\n",
    "\n",
    "    table_sorted = sorted(table_display, reverse = True)\n",
    "    for entry in table_sorted:\n",
    "        print(entry[1], ':', entry[0])"
   ]
  },
  {
   "cell_type": "markdown",
   "metadata": {},
   "source": [
    "### Part Three\n",
    "\n",
    "Now we will review the frequency tables and see what insights we can find. We will start with the App Store `genre` frequency table."
   ]
  },
  {
   "cell_type": "code",
   "execution_count": 18,
   "metadata": {
    "collapsed": false
   },
   "outputs": [
    {
     "name": "stdout",
     "output_type": "stream",
     "text": [
      "iOS prime_genre frequency table:\n",
      "Games : 55.64595660749507\n",
      "Entertainment : 8.234714003944774\n",
      "Photo & Video : 4.117357001972387\n",
      "Social Networking : 3.5256410256410255\n",
      "Education : 3.2544378698224854\n",
      "Shopping : 2.983234714003945\n",
      "Utilities : 2.687376725838264\n",
      "Lifestyle : 2.3175542406311638\n",
      "Finance : 2.0710059171597637\n",
      "Sports : 1.947731755424063\n",
      "Health & Fitness : 1.8737672583826428\n",
      "Music : 1.6518737672583828\n",
      "Book : 1.6272189349112427\n",
      "Productivity : 1.5285996055226825\n",
      "News : 1.4299802761341223\n",
      "Travel : 1.3806706114398422\n",
      "Food & Drink : 1.0601577909270217\n",
      "Weather : 0.7642998027613412\n",
      "Reference : 0.4930966469428008\n",
      "Navigation : 0.4930966469428008\n",
      "Business : 0.4930966469428008\n",
      "Catalogs : 0.22189349112426035\n",
      "Medical : 0.19723865877712032\n"
     ]
    }
   ],
   "source": [
    "print('iOS prime_genre frequency table:')\n",
    "display_table(ios_free, 11)"
   ]
  },
  {
   "cell_type": "markdown",
   "metadata": {},
   "source": [
    "We can see that the most common genre in the free English app market is games (55.64%), followed by entertainment (8.23%). The games genre has the majority share of the market. Looking at the table's overall results, it appears that the most popular genres tend to be entertainment-focused, with practical-focused apps falling behind.\n",
    "\n",
    "This would suggest that an entertainment or game-based app would be the most successful profile on the App Store, but it's worth considering that the market may be too overpopulated or that demand does not necessarily match the supply, so this may not be a good fit for our apps.\n",
    "\n",
    "Let's review the Google Play data using the `Category` and `Genres` columns (they appear to be related) next."
   ]
  },
  {
   "cell_type": "code",
   "execution_count": 19,
   "metadata": {
    "collapsed": false
   },
   "outputs": [
    {
     "name": "stdout",
     "output_type": "stream",
     "text": [
      "Google Play Category frequency table:\n",
      "FAMILY : 18.96900269541779\n",
      "GAME : 9.703504043126685\n",
      "TOOLS : 8.434411500449237\n",
      "BUSINESS : 4.5822102425876015\n",
      "LIFESTYLE : 3.930817610062893\n",
      "PRODUCTIVITY : 3.8858939802336026\n",
      "FINANCE : 3.6837376460017968\n",
      "MEDICAL : 3.515274034141959\n",
      "SPORTS : 3.380503144654088\n",
      "PERSONALIZATION : 3.313117699910153\n",
      "COMMUNICATION : 3.234501347708895\n",
      "HEALTH_AND_FITNESS : 3.0660377358490565\n",
      "PHOTOGRAPHY : 2.9424977538185084\n",
      "NEWS_AND_MAGAZINES : 2.8301886792452833\n",
      "SOCIAL : 2.6504941599281224\n",
      "TRAVEL_AND_LOCAL : 2.324797843665768\n",
      "SHOPPING : 2.2461814914645104\n",
      "BOOKS_AND_REFERENCE : 2.178796046720575\n",
      "DATING : 1.853099730458221\n",
      "VIDEO_PLAYERS : 1.7969451931716083\n",
      "MAPS_AND_NAVIGATION : 1.4150943396226416\n",
      "FOOD_AND_DRINK : 1.2353998203054808\n",
      "EDUCATION : 1.1680143755615455\n",
      "ENTERTAINMENT : 0.9546271338724168\n",
      "LIBRARIES_AND_DEMO : 0.9321653189577718\n",
      "AUTO_AND_VEHICLES : 0.9209344115004492\n",
      "HOUSE_AND_HOME : 0.8198562443845463\n",
      "WEATHER : 0.7973944294699011\n",
      "EVENTS : 0.7075471698113208\n",
      "PARENTING : 0.651392632524708\n",
      "ART_AND_DESIGN : 0.651392632524708\n",
      "COMICS : 0.628930817610063\n",
      "BEAUTY : 0.5952380952380952\n"
     ]
    }
   ],
   "source": [
    "print('Google Play Category frequency table:')\n",
    "display_table(android_free, 1) # Category"
   ]
  },
  {
   "cell_type": "markdown",
   "metadata": {},
   "source": [
    "We can see significant differences on Google Play: Practical app categories (Family, Tools, Business, etc.) appear to be dominating the marketplace. On closer inspection, the Family category (which holds 18% of the market) means mostly kid-focused games.\n",
    "\n",
    "However, it does appear that the productivity apps are more prevalent in Google Play, as confirmed by the data from the `Genre` frequency table:"
   ]
  },
  {
   "cell_type": "code",
   "execution_count": 20,
   "metadata": {
    "collapsed": false
   },
   "outputs": [
    {
     "name": "stdout",
     "output_type": "stream",
     "text": [
      "Google Play Genres frequency table:\n",
      "Tools : 8.423180592991914\n",
      "Entertainment : 6.087151841868823\n",
      "Education : 5.3908355795148255\n",
      "Business : 4.5822102425876015\n",
      "Lifestyle : 3.919586702605571\n",
      "Productivity : 3.8858939802336026\n",
      "Finance : 3.6837376460017968\n",
      "Medical : 3.515274034141959\n",
      "Sports : 3.447888589398023\n",
      "Personalization : 3.313117699910153\n",
      "Communication : 3.234501347708895\n",
      "Action : 3.088499550763702\n",
      "Health & Fitness : 3.0660377358490565\n",
      "Photography : 2.9424977538185084\n",
      "News & Magazines : 2.8301886792452833\n",
      "Social : 2.6504941599281224\n",
      "Travel & Local : 2.3135669362084457\n",
      "Shopping : 2.2461814914645104\n",
      "Books & Reference : 2.178796046720575\n",
      "Simulation : 2.0664869721473496\n",
      "Dating : 1.853099730458221\n",
      "Arcade : 1.8418688230008984\n",
      "Video Players & Editors : 1.7744833782569631\n",
      "Casual : 1.7520215633423182\n",
      "Maps & Navigation : 1.4150943396226416\n",
      "Food & Drink : 1.2353998203054808\n",
      "Puzzle : 1.1230907457322552\n",
      "Racing : 0.9883198562443846\n",
      "Role Playing : 0.9321653189577718\n",
      "Libraries & Demo : 0.9321653189577718\n",
      "Auto & Vehicles : 0.9209344115004492\n",
      "Strategy : 0.9097035040431267\n",
      "House & Home : 0.8198562443845463\n",
      "Weather : 0.7973944294699011\n",
      "Events : 0.7075471698113208\n",
      "Adventure : 0.6850853548966757\n",
      "Comics : 0.6176999101527404\n",
      "Art & Design : 0.6064690026954178\n",
      "Beauty : 0.5952380952380952\n",
      "Parenting : 0.4941599281221923\n",
      "Card : 0.44923629829290207\n",
      "Trivia : 0.42677448337825696\n",
      "Casino : 0.42677448337825696\n",
      "Educational;Education : 0.39308176100628933\n",
      "Board : 0.38185085354896675\n",
      "Educational : 0.3706199460916442\n",
      "Education;Education : 0.3481581311769991\n",
      "Word : 0.2583108715184187\n",
      "Casual;Pretend Play : 0.2358490566037736\n",
      "Music : 0.20215633423180593\n",
      "Racing;Action & Adventure : 0.1684636118598383\n",
      "Puzzle;Brain Games : 0.1684636118598383\n",
      "Entertainment;Music & Video : 0.1684636118598383\n",
      "Casual;Brain Games : 0.13477088948787064\n",
      "Casual;Action & Adventure : 0.13477088948787064\n",
      "Arcade;Action & Adventure : 0.12353998203054807\n",
      "Action;Action & Adventure : 0.10107816711590296\n",
      "Educational;Pretend Play : 0.08984725965858043\n",
      "Simulation;Action & Adventure : 0.07861635220125787\n",
      "Parenting;Education : 0.07861635220125787\n",
      "Entertainment;Brain Games : 0.07861635220125787\n",
      "Board;Brain Games : 0.07861635220125787\n",
      "Parenting;Music & Video : 0.06738544474393532\n",
      "Educational;Brain Games : 0.06738544474393532\n",
      "Casual;Creativity : 0.06738544474393532\n",
      "Art & Design;Creativity : 0.06738544474393532\n",
      "Education;Pretend Play : 0.05615453728661276\n",
      "Role Playing;Pretend Play : 0.04492362982929021\n",
      "Education;Creativity : 0.04492362982929021\n",
      "Role Playing;Action & Adventure : 0.03369272237196766\n",
      "Puzzle;Action & Adventure : 0.03369272237196766\n",
      "Entertainment;Creativity : 0.03369272237196766\n",
      "Entertainment;Action & Adventure : 0.03369272237196766\n",
      "Educational;Creativity : 0.03369272237196766\n",
      "Educational;Action & Adventure : 0.03369272237196766\n",
      "Education;Music & Video : 0.03369272237196766\n",
      "Education;Brain Games : 0.03369272237196766\n",
      "Education;Action & Adventure : 0.03369272237196766\n",
      "Adventure;Action & Adventure : 0.03369272237196766\n",
      "Video Players & Editors;Music & Video : 0.022461814914645106\n",
      "Sports;Action & Adventure : 0.022461814914645106\n",
      "Simulation;Pretend Play : 0.022461814914645106\n",
      "Puzzle;Creativity : 0.022461814914645106\n",
      "Music;Music & Video : 0.022461814914645106\n",
      "Entertainment;Pretend Play : 0.022461814914645106\n",
      "Casual;Education : 0.022461814914645106\n",
      "Board;Action & Adventure : 0.022461814914645106\n",
      "Video Players & Editors;Creativity : 0.011230907457322553\n",
      "Trivia;Education : 0.011230907457322553\n",
      "Travel & Local;Action & Adventure : 0.011230907457322553\n",
      "Tools;Education : 0.011230907457322553\n",
      "Strategy;Education : 0.011230907457322553\n",
      "Strategy;Creativity : 0.011230907457322553\n",
      "Strategy;Action & Adventure : 0.011230907457322553\n",
      "Simulation;Education : 0.011230907457322553\n",
      "Role Playing;Brain Games : 0.011230907457322553\n",
      "Racing;Pretend Play : 0.011230907457322553\n",
      "Puzzle;Education : 0.011230907457322553\n",
      "Parenting;Brain Games : 0.011230907457322553\n",
      "Music & Audio;Music & Video : 0.011230907457322553\n",
      "Lifestyle;Pretend Play : 0.011230907457322553\n",
      "Lifestyle;Education : 0.011230907457322553\n",
      "Health & Fitness;Education : 0.011230907457322553\n",
      "Health & Fitness;Action & Adventure : 0.011230907457322553\n",
      "Entertainment;Education : 0.011230907457322553\n",
      "Communication;Creativity : 0.011230907457322553\n",
      "Comics;Creativity : 0.011230907457322553\n",
      "Casual;Music & Video : 0.011230907457322553\n",
      "Card;Action & Adventure : 0.011230907457322553\n",
      "Books & Reference;Education : 0.011230907457322553\n",
      "Art & Design;Pretend Play : 0.011230907457322553\n",
      "Art & Design;Action & Adventure : 0.011230907457322553\n",
      "Arcade;Pretend Play : 0.011230907457322553\n",
      "Adventure;Education : 0.011230907457322553\n"
     ]
    }
   ],
   "source": [
    "print('Google Play Genres frequency table:')\n",
    "display_table(android_free, 9)"
   ]
  },
  {
   "cell_type": "markdown",
   "metadata": {},
   "source": [
    "The `Genre` column seems to be much more granular than the `Category` column, and it's not immediately clear what the relationship is between the two. As we're only looking at a high-level plan for the app, we'll focus on the `Category` column for now.\n",
    "\n",
    "The frequency tables we analyzed showed us that the App Store is dominated by apps designed for fun, while Google Play shows a more balanced landscape of both practical and fun apps. Now, we'd like to get an idea about the kind of apps with the most users."
   ]
  },
  {
   "cell_type": "code",
   "execution_count": 21,
   "metadata": {
    "collapsed": false
   },
   "outputs": [
    {
     "name": "stdout",
     "output_type": "stream",
     "text": [
      "Medical : 36.75\n",
      "Social Networking : 646.0\n",
      "Weather : 1624.4516129032259\n",
      "News : 62.3448275862069\n",
      "Business : 183.6\n",
      "Health & Fitness : 234.02631578947367\n",
      "Productivity : 225.3709677419355\n",
      "Finance : 298.98809523809524\n",
      "Entertainment : 179.31736526946108\n",
      "Games : 609.4714222419141\n",
      "Catalogs : 364.77777777777777\n",
      "Utilities : 1618.2844036697247\n",
      "Lifestyle : 1007.5\n",
      "Sports : 177.25316455696202\n",
      "Music : 618.8059701492538\n",
      "Travel : 175.89285714285714\n",
      "Food & Drink : 457.4651162790698\n",
      "Shopping : 714.8595041322315\n",
      "Education : 683.3712121212121\n",
      "Book : 106.68181818181819\n",
      "Navigation : 228.15\n",
      "Reference : 2471.9\n",
      "Photo & Video : 417.47904191616766\n"
     ]
    }
   ],
   "source": [
    "genres_ios = freq_table(ios_free,11)\n",
    "\n",
    "for genre in genres_ios:\n",
    "    total = 0\n",
    "    len_genre = 0\n",
    "    \n",
    "    for app in ios_free:\n",
    "        genre_app = app[11]\n",
    "        \n",
    "        if genre_app == genre:\n",
    "            no_of_ratings = float(app[6])\n",
    "            total += no_of_ratings\n",
    "            len_genre += 1\n",
    "    \n",
    "    avg_ratings = total / len_genre\n",
    "    print(genre,':',avg_ratings)"
   ]
  },
  {
   "cell_type": "markdown",
   "metadata": {},
   "source": [
    "Based on the results, we can see that the `Weather` genre has the highest average user rating (1624.45), followed closely by the `Utilities` genre (1618.28). Digging deeper, we can see that the `Weather` genre's average is heavily influenced by The Weather Channel and AccuWeather:"
   ]
  },
  {
   "cell_type": "code",
   "execution_count": 22,
   "metadata": {
    "collapsed": false
   },
   "outputs": [
    {
     "name": "stdout",
     "output_type": "stream",
     "text": [
      "The Weather Channel: Forecast, Radar & Alerts : 495626\n",
      "The Weather Channel App for iPad – best local forecast, radar map, and storm tracking : 208648\n",
      "WeatherBug - Local Weather, Radar, Maps, Alerts : 188583\n",
      "MyRadar NOAA Weather Radar Forecast : 150158\n",
      "AccuWeather - Weather for Life : 144214\n",
      "Yahoo Weather : 112603\n",
      "Weather Underground: Custom Forecast & Local Radar : 49192\n",
      "NOAA Weather Radar - Weather Forecast & HD Radar : 45696\n",
      "Weather Live Free - Weather Forecast & Alerts : 35702\n",
      "Storm Radar : 22792\n",
      "QuakeFeed Earthquake Map, Alerts, and News : 6081\n",
      "Moji Weather - Free Weather Forecast : 2333\n",
      "Hurricane by American Red Cross : 1158\n",
      "Forecast Bar : 375\n",
      "Hurricane Tracker WESH 2 Orlando, Central Florida : 203\n",
      "FEMA : 128\n",
      "iWeather - World weather forecast : 80\n",
      "Weather - Radar - Storm with Morecast App : 78\n",
      "Yurekuru Call : 53\n",
      "Weather & Radar : 37\n",
      "WRAL Weather Alert : 25\n",
      "Météo-France : 24\n",
      "JaxReady : 22\n",
      "Freddy the Frogcaster's Weather Station : 14\n",
      "Almanac Long-Range Weather Forecast : 12\n",
      "실시간 날씨 : 12\n",
      "TodayAir : 0\n",
      "wetter.com : 0\n",
      "WarnWetter : 0\n",
      "そら案内 : 0\n",
      "Yahoo!防災速報 - 地震や豪雨など災害情報をいち早く通知 : 0\n"
     ]
    }
   ],
   "source": [
    "for app in ios_free:\n",
    "    if app[-5] == 'Weather':\n",
    "        print(app[1], ':', app[5]) # print name and number of ratings"
   ]
  },
  {
   "cell_type": "markdown",
   "metadata": {},
   "source": [
    "The same pattern applies to utility apps, where the average number is heavily influenced by Google Search. Shopping apps are similarly skewed up by Amazon, Groupon, Wish, etc.\n",
    "\n",
    "Our aim is to find popular genres, but weather, utility and shopping apps might seem more popular than they really are. The average number of ratings seem to be skewed by very few apps which have hundreds of thousands of user ratings, while the other apps may struggle to get past the 10,000 threshold. We could get a better picture by removing these extremely popular apps for each genre and then rework the averages, but we'll leave this level of detail for later.\n",
    "\n",
    "We can see once we get to the education apps that we're finding more potential:"
   ]
  },
  {
   "cell_type": "code",
   "execution_count": 23,
   "metadata": {
    "collapsed": false
   },
   "outputs": [
    {
     "name": "stdout",
     "output_type": "stream",
     "text": [
      "Duolingo - Learn Spanish, French and more : 162701\n",
      "Guess My Age  Math Magic : 123190\n",
      "Lumosity - Brain Training : 96534\n",
      "Elevate - Brain Training and Games : 58092\n",
      "Fit Brains Trainer : 46363\n",
      "ClassDojo : 35440\n",
      "Memrise: learn languages : 20383\n",
      "Peak - Brain Training : 20322\n",
      "Canvas by Instructure : 19981\n",
      "ABCmouse.com - Early Learning Academy : 18749\n",
      "Quizlet: Study Flashcards, Languages & Vocabulary : 16683\n",
      "Photomath - Camera Calculator : 16523\n",
      "iTunes U : 15801\n",
      "Blackboard Mobile Learn™ : 13567\n",
      "Star Chart : 13482\n",
      "Remind: Fast, Efficient School Messaging : 9796\n",
      "PBS KIDS Video : 8651\n",
      "Toca Kitchen Monsters : 8062\n",
      "Toca Hair Salon - Christmas Gift : 8049\n",
      "Edmodo : 7197\n",
      "Prodigy Math Game : 6683\n",
      "Epic! - Unlimited Books for Kids : 6676\n",
      "ChineseSkill -Learn Mandarin Chinese Language Free : 6077\n",
      "Google Classroom : 5942\n",
      "TED : 5782\n",
      "Khan Academy: you can learn anything : 5459\n",
      "Got It - Homework Help Math, Chem, Physics Solver : 4903\n",
      "PowerSchool Mobile : 4547\n",
      "SkyView® Free - Explore the Universe : 4188\n",
      "Hopscotch : 4057\n",
      "IXL - Math and English : 3546\n",
      "Simply Piano by JoyTunes - Learn & play piano : 2925\n",
      "Kids A-Z : 2887\n",
      "Infinite Campus Mobile Portal : 2286\n",
      "PlayKids - Educational Cartoons and Games for Kids : 2196\n",
      "Memorado Brain Training for Memory & Mindfulness : 2067\n",
      "Bookshelf : 2064\n",
      "Mathway - Math Problem Solver : 1854\n",
      "Schoology : 1777\n",
      "HelloTalk Language Exchange Learning App : 1619\n",
      "SpellingCity : 1566\n",
      "Nick Jr. : 1541\n",
      "Babbel – Learn Languages Spanish, French & more : 1533\n",
      "Yup - Homework Help with Math & Science Tutors : 1424\n",
      "Mondly: Learn 33 Languages: Spanish English French : 1395\n",
      "WWF Together : 1385\n",
      "Tinycards - Learn with Fun, Free Flashcards : 1131\n",
      "Nearpod : 1057\n",
      "Starfall FREE : 1019\n",
      "Reflex Student : 1010\n",
      "GoldieBlox and the Movie Machine : 1000\n",
      "Pearson eText : 981\n",
      "codeSpark Academy with The Foos - coding for kids : 977\n",
      "Dr. Panda Restaurant Asia : 853\n",
      "NOGGIN - Preschool Shows & Educational Kids Videos : 782\n",
      "Tynker - Learn to Code. Programming Made Easy. : 771\n",
      "BrainHQ - Brain Training : 684\n",
      "Top Hat Lecture : 668\n",
      "Pearson eText for Schools : 609\n",
      "Curious World: Games, Videos, Books for Children : 604\n",
      "McGraw-Hill K-12 ConnectED Mobile : 594\n",
      "Socrative Student : 581\n",
      "Swift Playgrounds : 578\n",
      "MarcoPolo Ocean : 529\n",
      "TestNav : 491\n",
      "Starfall Learn to Read : 474\n",
      "Speakaboos Reading App: Stories & Songs for Kids : 440\n",
      "沪江开心词场-英语、日语、韩语学习助手 : 417\n",
      "Bloxels: Build, Play & Share Your Own Video Games : 382\n",
      "GoNoodle Kids : 372\n",
      "Global Shark Tracker : 336\n",
      "The Robot Factory by Tinybop : 335\n",
      "Daniel Tiger’s Day & Night : 314\n",
      "Kahoot! Play Fun Learning Games : 300\n",
      "Spanish SOLO: Learn Spanish With Lessons On The Go : 275\n",
      "Math 42 : 248\n",
      "Star Walk 2 Ads+ Night Sky Map - Stars and Planets : 161\n",
      "Toca Dance Free : 149\n",
      "Endless Learning Academy : 143\n",
      "270toWin : 141\n",
      "Win the White House : 123\n",
      "Sago Mini Babies Dress Up : 115\n",
      "Nancy Drew Codes and Clues Mystery Coding Game : 110\n",
      "1600 : 110\n",
      "作业帮-小初高学生拍照答疑学习辅导助手 : 101\n",
      "BEAKER by THIX : 94\n",
      "一起作业学生端-中小学霸口袋学习辅导助手 : 91\n",
      "Highlights™ Shapes - Preschool Learning Puzzles : 90\n",
      "Little Panda's Candy Shop - Lollipop Factory : 84\n",
      "Mathpix - Solve and graph math using pictures : 83\n",
      "Blue Apprentice Elementary Science Game by Galxyz : 79\n",
      "PINKFONG Birthday Party : 70\n",
      "Hopster: Kids TV, Nursery Rhymes, Music, Fun Games : 58\n",
      "Sago Mini Holiday Trucks and Diggers : 56\n",
      "Dr. Panda Toy Cars Free : 51\n",
      "Virry Educational. Play, learn with real animals : 50\n",
      "Highlights Monster Day : 49\n",
      "PlayKids Learn - Learning through play : 49\n",
      "PBS KIDS ScratchJr : 38\n",
      "Lemon Lumberjack's Letter Mill : 34\n",
      "Ready Jet Go! Space Explorer : 34\n",
      "Chinese Recipes - Asian cuisine : 32\n",
      "Nature Cat's Great Outdoors : 31\n",
      "小猿搜题-中小学拍照搜题作业帮手 : 31\n",
      "Show My Homework : 17\n",
      "PINKFONG 123 Numbers : 17\n",
      "驾校一点通-保过版，2017最新驾考学车宝典 : 16\n",
      "家长通-一起作业旗下家长端的同步课堂点读机 : 15\n",
      "小猿搜题HD-中小学拍照搜题作业帮手 : 15\n",
      "Aquarium VR : 12\n",
      "Little Panda Mini Games-3D : 9\n",
      "Stylish School Timetable : 7\n",
      "Merry Christmas -Activities : 7\n",
      "Mastering the piano with Lang Lang : 6\n",
      "Baby Panda's Carnival : 6\n",
      "Driving test 2017 : 5\n",
      "Cutie Patootie - Xmas Surprise : 5\n",
      "Free IQ Test: Calculate your IQ : 5\n",
      "性教育そうだったのか！世界一まなべる保健体育クイズ(画像付き) : 0\n",
      "作业通-中小学搜题搜作文必备神器 : 0\n",
      "Beautiful Japanese Handwriting for iPhone : 0\n",
      "GhostCallDX : 0\n",
      "レアジョブ瞬間中学英単語 | リスニングやTOEICの基礎学力にも : 0\n",
      "大学生のための時間割 : 0\n",
      "Baby Learns Transportation : 0\n",
      "Baby Panda's Bath Time : 0\n",
      "まるみえ！性教育ふしぎ発見-クイズで学ぶ保健体育 : 0\n",
      "赤ペン 提出カメラ : 0\n",
      "Beautiful Japanese Handwriting : 0\n",
      "学年ビリのギャルが今さら受験してみた : 0\n",
      "Spring Festival by BabyBus : 0\n",
      "Dinosaur Planet : 0\n"
     ]
    }
   ],
   "source": [
    "for app in ios_free:\n",
    "    if app[-5] == 'Education':\n",
    "        print(app[1], ':', app[5]) # print name and number of ratings"
   ]
  },
  {
   "cell_type": "markdown",
   "metadata": {},
   "source": [
    "We can see that the user ratings are much more balanced in the education app market. The more popular apps appear to be around learning, and specifically around either improving mental processes or learning additional languages. It's clear that there is a strong potential for an iOS app that is focused around gamifying learning processes."
   ]
  },
  {
   "cell_type": "markdown",
   "metadata": {},
   "source": [
    "### Most Popular Apps by Genre on Google Play\n",
    "We have data about the number of installs for the Google Play market, so we should be able to get a clearer picture about genre popularity. However, the install numbers don't seem precise enough — we can see that most values are open-ended (100+, 1,000+, 5,000+, etc.):"
   ]
  },
  {
   "cell_type": "code",
   "execution_count": 24,
   "metadata": {
    "collapsed": false
   },
   "outputs": [
    {
     "name": "stdout",
     "output_type": "stream",
     "text": [
      "1,000,000+ : 15.689577717879605\n",
      "100,000+ : 11.579065588499551\n",
      "10,000,000+ : 10.500898472596585\n",
      "10,000+ : 10.25381850853549\n",
      "1,000+ : 8.423180592991914\n",
      "100+ : 6.918238993710692\n",
      "5,000,000+ : 6.8171608265947885\n",
      "500,000+ : 5.536837376460018\n",
      "50,000+ : 4.818059299191375\n",
      "5,000+ : 4.526055705300988\n",
      "10+ : 3.5377358490566038\n",
      "500+ : 3.234501347708895\n",
      "50,000,000+ : 2.2911051212938007\n",
      "100,000,000+ : 2.1226415094339623\n",
      "50+ : 1.9092542677448336\n",
      "5+ : 0.7861635220125787\n",
      "1+ : 0.5166217430368374\n",
      "500,000,000+ : 0.2695417789757413\n",
      "1,000,000,000+ : 0.22461814914645103\n",
      "0+ : 0.04492362982929021\n"
     ]
    }
   ],
   "source": [
    "display_table(android_free, 5) # Installs column"
   ]
  },
  {
   "cell_type": "markdown",
   "metadata": {},
   "source": [
    "For instance, we don't know whether an app with 100,000+ installs has 100,000 installs, 200,000, or 350,000. However, we don't need very precise data for our purposes — we only want to find out which app genres attract the most users, and we don't need perfect precision with respect to the number of users.\n",
    "\n",
    "We're going to leave the numbers as they are, which means that we'll consider that an app with 100,000+ installs has 100,000 installs, and an app with 1,000,000+ installs has 1,000,000 installs, and so on. To perform computations, however, we'll need to convert each install number from string to float. This means we need to remove the commas and the plus characters, otherwise the conversion will fail and raise an error."
   ]
  },
  {
   "cell_type": "code",
   "execution_count": 34,
   "metadata": {
    "collapsed": false
   },
   "outputs": [
    {
     "name": "stdout",
     "output_type": "stream",
     "text": [
      "EDUCATION : 1,825,480.7692307692\n",
      "COMICS : 803,234.8214285715\n",
      "LIFESTYLE : 1,436,126.94\n",
      "HEALTH_AND_FITNESS : 4,188,821.9853479853\n",
      "COMMUNICATION : 38,322,625.697916664\n",
      "MEDICAL : 120,550.61980830671\n",
      "ENTERTAINMENT : 11,640,705.88235294\n",
      "FINANCE : 1,387,692.475609756\n",
      "BUSINESS : 1,708,215.906862745\n",
      "MAPS_AND_NAVIGATION : 3,993,339.603174603\n",
      "AUTO_AND_VEHICLES : 647,317.8170731707\n",
      "SPORTS : 3,638,640.1428571427\n",
      "ART_AND_DESIGN : 1,952,105.1724137932\n",
      "PERSONALIZATION : 5,183,850.806779661\n",
      "NEWS_AND_MAGAZINES : 9,401,635.952380951\n",
      "HOUSE_AND_HOME : 1,331,540.5616438356\n",
      "BEAUTY : 513,151.88679245283\n",
      "WEATHER : 5,074,486.197183099\n",
      "LIBRARIES_AND_DEMO : 638,503.734939759\n",
      "TOOLS : 10,787,009.952063914\n",
      "PARENTING : 542,603.6206896552\n",
      "PRODUCTIVITY : 16,738,957.554913295\n",
      "PHOTOGRAPHY : 17,772,018.759541985\n",
      "FOOD_AND_DRINK : 1,924,897.7363636363\n",
      "TRAVEL_AND_LOCAL : 13,984,077.710144928\n",
      "FAMILY : 3,671,043.037892244\n",
      "VIDEO_PLAYERS : 24,573,948.25\n",
      "DATING : 854,028.8303030303\n",
      "EVENTS : 253,542.22222222222\n",
      "BOOKS_AND_REFERENCE : 8,587,351.855670104\n",
      "GAME : 15,551,995.891203703\n",
      "SOCIAL : 23,253,652.127118643\n",
      "SHOPPING : 7,001,693.425\n"
     ]
    }
   ],
   "source": [
    "categories_android = freq_table(android_free,1)\n",
    "category_installs = {}\n",
    "\n",
    "for category in categories_android:\n",
    "    total = 0\n",
    "    len_category = 0\n",
    "    \n",
    "    for app in android_free:\n",
    "        category_app = app[1]\n",
    "        \n",
    "        if category_app == category:\n",
    "            no_of_installs = float(app[5].replace('+','').replace(',',''))\n",
    "            total += no_of_installs\n",
    "            len_category += 1\n",
    "    \n",
    "    avg_installs = total / len_category\n",
    "    category_installs[category] = avg_installs\n",
    "\n",
    "template = '{} : {:,}'\n",
    "\n",
    "for cat, installs in category_installs.items():\n",
    "    print(template.format(cat,installs))"
   ]
  },
  {
   "cell_type": "markdown",
   "metadata": {},
   "source": [
    "The highest results for installs on the Google Play Store is found in communication apps (38,322,625.697916664), followed by video player apps (24,573,948.25). This is not surprising given the amount of ways to communicate in the modern world (SMS, instant messaging, email, phone calls, social media, etc.) but let's take a closer look at the top end of the communication category:"
   ]
  },
  {
   "cell_type": "code",
   "execution_count": 50,
   "metadata": {
    "collapsed": false
   },
   "outputs": [
    {
     "name": "stdout",
     "output_type": "stream",
     "text": [
      "Google Play Books : 1,000,000,000+\n",
      "Bible : 100,000,000+\n",
      "Amazon Kindle : 100,000,000+\n",
      "Wattpad 📖 Free Books : 100,000,000+\n",
      "Audiobooks from Audible : 100,000,000+\n"
     ]
    }
   ],
   "source": [
    "for app in android_free:\n",
    "    if app[1] == 'BOOKS_AND_REFERENCE' and (app[5] == '1,000,000,000+'\n",
    "                                      or app[5] == '500,000,000+'\n",
    "                                      or app[5] == '100,000,000+'):\n",
    "        print(app[0], ':', app[5])"
   ]
  },
  {
   "cell_type": "markdown",
   "metadata": {},
   "source": [
    "We can see that the communication category is being heavily skewed up by some of the big names: WhatsApp, Messenger, Gmail, Skype and Chrome are all hitting upwards of 1,000,000,000 installs. Let's see what happens to our average if we remove any app with over 100,000,000 installs:"
   ]
  },
  {
   "cell_type": "code",
   "execution_count": 52,
   "metadata": {
    "collapsed": false
   },
   "outputs": [
    {
     "data": {
      "text/plain": [
       "1407123.0687830688"
      ]
     },
     "execution_count": 52,
     "metadata": {},
     "output_type": "execute_result"
    }
   ],
   "source": [
    "below_100_m = []\n",
    "\n",
    "for app in android_free:\n",
    "    no_of_installs = float(app[5].replace('+','').replace(',',''))\n",
    "    total += no_of_installs\n",
    "    \n",
    "    if (app[1] == 'BOOKS_AND_REFERENCE' and float(no_of_installs) < 100000000):\n",
    "        below_100_m.append(float(no_of_installs))\n",
    "    \n",
    "sum(below_100_m) / len(below_100_m)"
   ]
  },
  {
   "cell_type": "markdown",
   "metadata": {},
   "source": [
    "Our average has now dropped by 90%. A similar situation is occurring in the runner-up categories of video players (dominated by Youtube and Google Play Movies & TV), social (Facebook, Instagram, Snapchat, LinkedIn, Pinterest, etc), photography (Google Photos and other big-name photo editing apps) and productivity (Microsoft Office, Google Docs and Drive, Evernote among others). Given the next categories on our list, games and entertainment, are incredibly saturated markets, we want to avoid these two in favour of somewhere our app can make more of an impact and thus get more users.\n",
    "\n",
    "This brings us to the books and reference category. With the exception of Google Play Books, there are not many big names that are dominating this market, allowing more chance for our app to stand out. Providing some level of gamification (for example, reading challenges or studying quizzes) and social networking (such as challenge leaderboards, forums or friend recommendations) would help to provide a point of difference for our app within this smaller market.\n",
    "\n",
    "### Conclusion\n",
    "\n",
    "Given the results that we've found in both the iOS and Google Play markets, a strong case can be made to create an app in the books and reference genre. A suggestion would be an online library of study resources (that can be bought in-app for cheaper rates than their physical counterparts). Users can access the resources, as well as additional study material, both in-house and user-submitted. They can also connect with friends and other users studying the same materials, to either discuss the content or gamify their studying through challenges and leaderboards."
   ]
  }
 ],
 "metadata": {
  "kernelspec": {
   "display_name": "Python 3",
   "language": "python",
   "name": "python3"
  },
  "language_info": {
   "codemirror_mode": {
    "name": "ipython",
    "version": 3
   },
   "file_extension": ".py",
   "mimetype": "text/x-python",
   "name": "python",
   "nbconvert_exporter": "python",
   "pygments_lexer": "ipython3",
   "version": "3.4.3"
  }
 },
 "nbformat": 4,
 "nbformat_minor": 2
}
